{
  "nbformat": 4,
  "nbformat_minor": 0,
  "metadata": {
    "colab": {
      "provenance": [],
      "authorship_tag": "ABX9TyOnJvrPIQ9r4WAqTL0RArcJ",
      "include_colab_link": true
    },
    "kernelspec": {
      "name": "python3",
      "display_name": "Python 3"
    },
    "language_info": {
      "name": "python"
    }
  },
  "cells": [
    {
      "cell_type": "markdown",
      "metadata": {
        "id": "view-in-github",
        "colab_type": "text"
      },
      "source": [
        "<a href=\"https://colab.research.google.com/github/ClaytonUrbano/analise-de-dados/blob/main/C%C3%B3pia_de_Untitled2.ipynb\" target=\"_parent\"><img src=\"https://colab.research.google.com/assets/colab-badge.svg\" alt=\"Open In Colab\"/></a>"
      ]
    },
    {
      "cell_type": "code",
      "execution_count": null,
      "metadata": {
        "collapsed": true,
        "id": "cu2Ke6XTt2RV"
      },
      "outputs": [],
      "source": [
        "\n",
        "!pip install -q pandas numpy scikit-learn plotly joblib streamlit pyngrok psutil\n",
        "\n",
        "\n",
        "\n"
      ]
    },
    {
      "cell_type": "code",
      "source": [
        "from google.colab import files\n",
        "uploaded = files.upload()  # selecione seus arquivos .csv\n",
        "# Após o upload, mova para a pasta data/\n",
        "import shutil, os\n",
        "for fname in uploaded.keys():\n",
        "    shutil.move(fname, f\"data/{fname}\")\n",
        "os.listdir(\"data\")\n"
      ],
      "metadata": {
        "id": "BozQDxsMX3bE",
        "collapsed": true
      },
      "execution_count": null,
      "outputs": []
    },
    {
      "cell_type": "code",
      "source": [
        "import pandas as pd\n",
        "\n",
        "df = pd.read_csv(\"logistics_data.csv\")\n",
        "print(df.head())\n",
        "print(df.dtypes)\n",
        "\n",
        "# Se houver coluna de tempo, parse:\n",
        "if \"timestamp\" in df.columns:\n",
        "    df[\"timestamp\"] = pd.to_datetime(df[\"timestamp\"], errors=\"coerce\")\n",
        "    df = df.dropna(subset=[\"timestamp\"]).sort_values(\"timestamp\")\n",
        "\n",
        "# Conferir valores faltantes\n",
        "missing = df.isna().sum()\n",
        "missing[missing>0]\n"
      ],
      "metadata": {
        "collapsed": true,
        "id": "1eDaYfPQaf5K"
      },
      "execution_count": null,
      "outputs": []
    },
    {
      "cell_type": "code",
      "source": [
        "# Só se tiver timestamp\n",
        "if \"timestamp\" in df.columns:\n",
        "    df = df.set_index(\"timestamp\").resample(\"5min\").agg({\n",
        "        \"cpu\":\"mean\", \"ram\":\"mean\", \"latency_ms\":\"median\", \"rps\":\"sum\"\n",
        "    }).dropna().reset_index()\n",
        "df.head()\n"
      ],
      "metadata": {
        "collapsed": true,
        "id": "t3Vn5ie1c9X3"
      },
      "execution_count": null,
      "outputs": []
    },
    {
      "cell_type": "code",
      "source": [
        "import plotly.express as px\n",
        "\n",
        "for col in [c for c in [\"cpu\",\"ram\",\"latency_ms\",\"rps\"] if c in df.columns]:\n",
        "    fig = px.line(df, x=\"timestamp\" if \"timestamp\" in df.columns else df.index, y=col, title=col)\n",
        "    fig.show()\n"
      ],
      "metadata": {
        "id": "T2mrTHO5dFoI"
      },
      "execution_count": null,
      "outputs": []
    },
    {
      "cell_type": "code",
      "source": [
        "from sklearn.ensemble import IsolationForest\n",
        "import joblib\n",
        "import numpy as np\n",
        "\n",
        "# Defina as features existentes no seu dataset\n",
        "features = [\"Weight_kg\", \"Cost\", \"Distance_miles\", \"Transit_Days\"]\n",
        "assert len(features) > 0, \"Defina a lista de features conforme seu CSV.\"\n",
        "\n",
        "X = df[features].astype(float)\n",
        "\n",
        "# Treino\n",
        "iso = IsolationForest(\n",
        "    n_estimators=200, contamination=0.02, random_state=42, n_jobs=-1\n",
        ")\n",
        "iso.fit(X)\n",
        "\n",
        "# Scoring\n",
        "df[\"anomaly_score\"] = -iso.decision_function(X)  # maior score = mais anômalo\n",
        "df[\"is_anomaly\"] = (iso.predict(X) == -1)\n",
        "\n",
        "# Salvar artefatos\n",
        "joblib.dump(iso, \"models/iso_forest.pkl\")\n",
        "df.to_csv(\"data/metrics_scored.csv\", index=False)\n",
        "\n",
        "df.tail()"
      ],
      "metadata": {
        "collapsed": true,
        "id": "513SMyiVdJqw"
      },
      "execution_count": null,
      "outputs": []
    },
    {
      "cell_type": "code",
      "source": [
        "df.sort_values(\"anomaly_score\", ascending=False).head(10)\n"
      ],
      "metadata": {
        "collapsed": true,
        "id": "9cROV9pzeRKu"
      },
      "execution_count": null,
      "outputs": []
    },
    {
      "cell_type": "code",
      "source": [
        "if \"timestamp\" in df.columns:\n",
        "    fig = px.scatter(df, x=\"timestamp\", y=features[0], color=\"is_anomaly\",\n",
        "                     color_discrete_map={True:\"red\", False:\"steelblue\"},\n",
        "                     title=f\"{features[0]} com anomalias\")\n",
        "    fig.show()\n"
      ],
      "metadata": {
        "id": "AdXtoWcgecn-"
      },
      "execution_count": null,
      "outputs": []
    },
    {
      "cell_type": "code",
      "source": [
        "import numpy as np\n",
        "\n",
        "def alert_rule(row):\n",
        "    hard = []\n",
        "    if \"cpu\" in row and row[\"cpu\"] > 90: hard.append(\"CPU>90%\")\n",
        "    if \"latency_ms\" in row and row[\"latency_ms\"] > 800: hard.append(\"Latência>800ms\")\n",
        "    if \"ram\" in row and row[\"ram\"] > 90: hard.append(\"RAM>90%\")\n",
        "    hard_trigger = len(hard) > 0\n",
        "    model_trigger = row[\"anomaly_score\"] > np.percentile(df[\"anomaly_score\"], 90)\n",
        "    return hard_trigger and model_trigger, \", \".join(hard) if hard else \"\"\n",
        "\n",
        "df[\"alert\"], df[\"alert_reason\"] = zip(*df.apply(alert_rule, axis=1))\n",
        "alerts = df[df[\"alert\"]].copy()\n",
        "alerts.tail(10)\n"
      ],
      "metadata": {
        "collapsed": true,
        "id": "TGD6vsXbeqN_"
      },
      "execution_count": null,
      "outputs": []
    },
    {
      "cell_type": "code",
      "source": [
        "alerts.tail(100).to_csv(\"data/alerts_recent.csv\", index=False)\n"
      ],
      "metadata": {
        "id": "N1d_MjMneu74"
      },
      "execution_count": null,
      "outputs": []
    },
    {
      "cell_type": "code",
      "source": [
        "%%writefile app/streamlit_app.py\n",
        "import streamlit as st, pandas as pd, plotly.express as px, numpy as np\n",
        "from pathlib import Path\n",
        "\n",
        "st.set_page_config(page_title=\"AIOps - Incidentes Preditivos\", layout=\"wide\")\n",
        "st.title(\"AIOps: Detecção Preditiva de Incidentes\")\n",
        "\n",
        "path = Path(\"data/metrics_scored.csv\")\n",
        "if not path.exists():\n",
        "    st.warning(\"Gere o arquivo metrics_scored.csv (rode a célula de Isolation Forest).\")\n",
        "    st.stop()\n",
        "\n",
        "df = pd.read_csv(path, parse_dates=[\"timestamp\"], infer_datetime_format=True)\n",
        "features = [c for c in [\"cpu\",\"ram\",\"latency_ms\",\"rps\"] if c in df.columns]\n",
        "\n",
        "with st.sidebar:\n",
        "    st.header(\"Controles\")\n",
        "    window = st.slider(\"Registros (mais recentes)\", 500, min(5000, len(df)), min(2000, len(df)))\n",
        "    pctl = st.slider(\"Threshold de score (percentil)\", 50, 99, 90)\n",
        "\n",
        "df_show = df.tail(window).copy()\n",
        "thr = np.percentile(df[\"anomaly_score\"], pctl)\n",
        "\n",
        "col1, col2, col3 = st.columns(3)\n",
        "col1.metric(\"Registros\", len(df))\n",
        "col2.metric(\"Anomalias (modelo)\", int(df[\"is_anomaly\"].sum()))\n",
        "col3.metric(\"Threshold pctl\", pctl)\n",
        "\n",
        "if features:\n",
        "    fig = px.line(df_show, x=\"timestamp\", y=features, title=\"Métricas\")\n",
        "    st.plotly_chart(fig, use_container_width=True)\n",
        "\n",
        "fig2 = px.line(df_show, x=\"timestamp\", y=\"anomaly_score\", title=\"Score de Anomalia\")\n",
        "fig2.add_hline(y=thr, line_dash=\"dot\", line_color=\"red\")\n",
        "st.plotly_chart(fig2, use_container_width=True)\n",
        "\n",
        "st.subheader(\"Alertas recentes\")\n",
        "if \"alert\" in df_show.columns:\n",
        "    alerts = df_show[df_show[\"alert\"] == True].tail(100)\n",
        "    if not alerts.empty:\n",
        "        st.dataframe(alerts[[\"timestamp\"] + features + [\"anomaly_score\",\"alert_reason\"]])\n",
        "    else:\n",
        "        st.success(\"Sem alertas nesta janela.\")\n",
        "else:\n",
        "    st.info(\"Coluna 'alert' não encontrada. Rode a célula de regras de alerta.\")\n"
      ],
      "metadata": {
        "id": "wRy-EnaKe1lZ"
      },
      "execution_count": null,
      "outputs": []
    },
    {
      "cell_type": "code",
      "source": [
        "!pip install fastapi uvicorn nest-asyncio pyngrok"
      ],
      "metadata": {
        "collapsed": true,
        "id": "Zu8ELCK_xIOJ"
      },
      "execution_count": null,
      "outputs": []
    },
    {
      "cell_type": "code",
      "source": [
        "from pyngrok import ngrok\n",
        "\n",
        "# Coloque seu token aqui\n",
        "NGROK_AUTH_TOKEN = \"32vqRAEedyXFdxElSe0uUjEEvh3_5ThHvCDQUCmq8PuCQ5rxE \"\n",
        "\n",
        "ngrok.set_auth_token(NGROK_AUTH_TOKEN)\n"
      ],
      "metadata": {
        "id": "2pj5DoIf2LqL"
      },
      "execution_count": null,
      "outputs": []
    },
    {
      "cell_type": "code",
      "source": [
        "from fastapi import FastAPI\n",
        "\n",
        "app = FastAPI()\n",
        "\n",
        "@app.get(\"/api/hello\")\n",
        "def hello():\n",
        "    return {\"Hello\": \"World\"}\n"
      ],
      "metadata": {
        "id": "hR4wXaYe2W0W"
      },
      "execution_count": null,
      "outputs": []
    },
    {
      "cell_type": "code",
      "source": [
        "from google.colab import userdata\n",
        "print(userdata.get('NGROK_AUTH_TOKEN'))"
      ],
      "metadata": {
        "id": "8zT037CJ4EVd"
      },
      "execution_count": null,
      "outputs": []
    },
    {
      "cell_type": "code",
      "source": [
        "from fastapi import FastAPI\n",
        "import nest_asyncio\n",
        "import uvicorn\n",
        "from pyngrok import ngrok\n",
        "from google.colab import userdata\n",
        "\n",
        "app = FastAPI()\n",
        "\n",
        "@app.get(\"/\")\n",
        "def home():\n",
        "    return {\"mensagem\": \"Servidor rodando com ngrok no Colab!\"}\n",
        "\n",
        "# Permite rodar o servidor no Colab\n",
        "nest_asyncio.apply()\n",
        "\n",
        "# Recupera o token salvo nos Segredos do Colab\n",
        "authtoken = userdata.get(\"NGROK_AUTH_TOKEN\")\n",
        "\n",
        "# Configura o pyngrok para usar o token\n",
        "if authtoken:\n",
        "    ngrok.set_auth_token(authtoken)\n",
        "    print(\"Authtoken do ngrok configurado.\")\n",
        "else:\n",
        "    print(\"Authtoken do ngrok não encontrado nos segredos do Colab. Por favor, adicione-o usando o ícone de chave (🔑) na barra lateral esquerda com o nome 'NGROK_AUTH_TOKEN'.\")\n",
        "    # Stop execution if the authtoken is not found\n",
        "    exit()\n",
        "# Cria o app FastAPI\n",
        "app = FastAPI()\n",
        "\n",
        "# Inicia o túnel na porta 8000\n",
        "public_url = ngrok.connect(8000)\n",
        "print(\"URL pública:\", public_url)\n",
        "\n",
        "# Inicia o servidor\n",
        "uvicorn.run(app, host=\"0.0.0.0\", port=8000)"
      ],
      "metadata": {
        "id": "iw5hUspJ9_iv"
      },
      "execution_count": null,
      "outputs": []
    },
    {
      "cell_type": "code",
      "source": [
        "from pyngrok import ngrok\n",
        "import os\n",
        "from google.colab import userdata\n",
        "\n",
        "# Recupera o token salvo nos Segredos do Colab\n",
        "authtoken = userdata.get(\"NGROK_AUTH_TOKEN\")\n",
        "\n",
        "# Configura o pyngrok para usar o token\n",
        "if authtoken:\n",
        "    ngrok.set_auth_token(authtoken)\n",
        "    print(\"Authtoken do ngrok configurado.\")\n",
        "else:\n",
        "    print(\"Authtoken do ngrok não encontrado nos segredos do Colab. Por favor, adicione-o usando o ícone de chave (🔑) na barra lateral esquerda com o nome 'NGROK_AUTH_TOKEN'.\")"
      ],
      "metadata": {
        "id": "5CfL76gJEOwe"
      },
      "execution_count": null,
      "outputs": []
    },
    {
      "cell_type": "code",
      "source": [
        "from google.colab import userdata\n",
        "userdata.get('NGROK_AUTH_TOKEN')"
      ],
      "metadata": {
        "id": "B93eqeNP_jgN"
      },
      "execution_count": null,
      "outputs": []
    },
    {
      "cell_type": "code",
      "source": [
        "#Para aumentar a segurança e não ter problemas em compartilhar seu notebook do colab\n",
        "import os\n",
        "from google.colab import userdata\n",
        "os.environ['GOOGLE_API_KEY'] = userdata.get('GOOGLE_API_KEY')"
      ],
      "metadata": {
        "id": "nVfk_h9i-ZEy"
      },
      "execution_count": null,
      "outputs": []
    },
    {
      "cell_type": "code",
      "source": [
        "#🧰 Etapas do Painel Interativo\n",
        "#✅ 1. Instalar dependências\n",
        "!pip install pyngrok fastapi uvicorn nest_asyncio\n"
      ],
      "metadata": {
        "collapsed": true,
        "id": "nb4IDTydByKS"
      },
      "execution_count": null,
      "outputs": []
    },
    {
      "cell_type": "code",
      "source": [
        "#📝 2. Criar e visualizar configuração JSON\n",
        "import json\n",
        "from IPython.display import display, Markdown\n",
        "\n",
        "# Configuração inicial\n",
        "config = {\n",
        "    \"agente\": {\n",
        "        \"nome\": \"AgenteClayton\",\n",
        "        \"prioridade\": \"alta\",\n",
        "        \"limite_trafego\": \"500mbps\"\n",
        "    }\n",
        "}\n",
        "\n",
        "# Salvar como JSON\n",
        "with open(\"config.json\", \"w\") as f:\n",
        "    json.dump(config, f, indent=4)\n",
        "\n",
        "# Mostrar conteúdo atual\n",
        "def mostrar_config():\n",
        "    with open(\"config.json\") as f:\n",
        "        texto = f.read()\n",
        "    display(Markdown(f\"### Configuração atual:\\n```json\\n{texto}\\n```\"))\n",
        "\n",
        "mostrar_config()\n",
        "\n"
      ],
      "metadata": {
        "id": "BpqEFOR6CcF4"
      },
      "execution_count": null,
      "outputs": []
    },
    {
      "cell_type": "code",
      "source": [
        "#🧑‍💻 3. Criar função para editar a configuração\n",
        "def atualizar_config(novo_nome, nova_prioridade, novo_limite):\n",
        "    config[\"agente\"][\"nome\"] = novo_nome\n",
        "    config[\"agente\"][\"prioridade\"] = nova_prioridade\n",
        "    config[\"agente\"][\"limite_trafego\"] = novo_limite\n",
        "     with open(\"config.json\", \"w\") as f:\n",
        "        json.dump(config, f, indent=4)\n",
        "    print(\"✅ Configuração atualizada.\")\n",
        "    mostrar_config()\n"
      ],
      "metadata": {
        "id": "ktwDOF5FCkGH"
      },
      "execution_count": null,
      "outputs": []
    },
    {
      "cell_type": "code",
      "source": [
        "#Você pode chamar essa função assim:\n",
        "atualizar_config(\"AgenteX\", \"média\", \"200mbps\")\n"
      ],
      "metadata": {
        "id": "lXTdinrECphn"
      },
      "execution_count": null,
      "outputs": []
    },
    {
      "cell_type": "code",
      "source": [
        "#🚀 4. Iniciar servidor FastAPI com essa configuração\n",
        "from fastapi import FastAPI\n",
        "import nest_asyncio\n",
        "import uvicorn\n",
        "from pyngrok import ngrok\n",
        "from google.colab import userdata # Import userdata\n",
        "import json # Import the json library\n",
        "import yaml # Import the yaml library\n",
        "\n",
        "app = FastAPI()\n",
        "\n",
        "@app.get(\"/config\")\n",
        "def ler_config():\n",
        "    with open(\"config.json\") as f: # Change filename to config.json\n",
        "        return json.load(f) # Change to json.load\n",
        "\n",
        "nest_asyncio.apply()\n",
        "\n",
        "# Configurar ngrok\n",
        "authtoken = userdata.get(\"NGROK_AUTH_TOKEN\") # Get token from Colab secrets\n",
        "if authtoken:\n",
        "    ngrok.set_auth_token(authtoken)\n",
        "    print(\"Authtoken do ngrok configurado.\")\n",
        "else:\n",
        "    print(\"Authtoken do ngrok não encontrado nos segredos do Colab. Por favor, adicione-o usando o ícone de chave (🔑) na barra lateral esquerda com o nome 'NGROK_AUTH_TOKEN'.\")\n",
        "    # You might want to handle this case, e.g., by exiting or raising an error\n",
        "    # For now, we'll just print a message and continue, but ngrok.connect will likely fail\n",
        "    pass # Or sys.exit(1) or raise ValueError(...)\n",
        "\n",
        "\n",
        "# Iniciar túnel\n",
        "public_url = ngrok.connect(8000)\n",
        "print(\"🔗 Interface disponível em:\", public_url)\n",
        "\n",
        "# Iniciar servidor\n",
        "uvicorn.run(app, host=\"0.0.0.0\", port=8000)"
      ],
      "metadata": {
        "colab": {
          "base_uri": "https://localhost:8080/"
        },
        "id": "-7a53ZxIDLdF",
        "outputId": "5d1b45f2-ee8e-4700-a8d6-a0a08708188b"
      },
      "execution_count": null,
      "outputs": [
        {
          "output_type": "stream",
          "name": "stdout",
          "text": [
            "Authtoken do ngrok configurado.\n",
            "🔗 Interface disponível em: NgrokTunnel: \"https://3707f59e3d07.ngrok-free.app\" -> \"http://localhost:8000\"\n"
          ]
        },
        {
          "output_type": "stream",
          "name": "stderr",
          "text": [
            "INFO:     Started server process [226]\n",
            "INFO:     Waiting for application startup.\n",
            "INFO:     Application startup complete.\n",
            "INFO:     Uvicorn running on http://0.0.0.0:8000 (Press CTRL+C to quit)\n"
          ]
        },
        {
          "output_type": "stream",
          "name": "stdout",
          "text": [
            "INFO:     2804:a74:322:1e00:7902:dfd1:7464:fb6a:0 - \"GET / HTTP/1.1\" 404 Not Found\n",
            "INFO:     2804:a74:322:1e00:7902:dfd1:7464:fb6a:0 - \"GET /favicon.ico HTTP/1.1\" 404 Not Found\n"
          ]
        }
      ]
    }
  ]
}